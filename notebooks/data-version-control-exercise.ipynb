{
 "cells": [
  {
   "cell_type": "markdown",
   "metadata": {},
   "source": [
    "<center>\n",
    "<h1>The Full Machine Learning Lifecycle - How to Use Machine Learning in Production (MLOps)</h1>\n",
    "<hr>\n",
    "<h2>DVC Tutorial</h2>\n",
    "<hr>\n",
    " </center>"
   ]
  },
  {
   "cell_type": "markdown",
   "metadata": {},
   "source": [
    "# Introduction\n",
    "This tutorial will teach you how to use DVC to versionize your data. You will learn how to set up data versioning and how to track and switch between dataset versions. To get started, let's navigate into our project home directory.\n"
   ]
  },
  {
   "cell_type": "code",
   "execution_count": 24,
   "metadata": {},
   "outputs": [],
   "source": [
    "import pandas as pd\n",
    "import numpy as np\n",
    "import os\n",
    "import sys\n",
    "import matplotlib.pyplot as plt\n",
    "import seaborn as sns\n",
    "\n",
    "sys.path.insert(1, os.path.join(sys.path[0], '..'))\n",
    "sys.path.append('/cd4ml/plugins/')\n",
    "os.makedirs('/cd4ml/dvc-tutorial', exist_ok=True)\n",
    "os.chdir(\"/cd4ml/dvc-tutorial\")\n",
    "\n",
    "from cd4ml.data_processing import ingest_data"
   ]
  },
  {
   "cell_type": "raw",
   "metadata": {},
   "source": [
    "# OLD version\n",
    "import os\n",
    "import shutil\n",
    "import sys\n",
    "\n",
    "sys.path.append('/cd4ml/plugins/')\n",
    "#sys.path.append('/plugins/')"
   ]
  },
  {
   "cell_type": "markdown",
   "metadata": {},
   "source": [
    "# 1. Initialize the Git repository\n",
    "DVC works hand-in-hand with Git. To get started tracking the data, we need to initialize a Git repository. "
   ]
  },
  {
   "cell_type": "code",
   "execution_count": 25,
   "metadata": {},
   "outputs": [
    {
     "name": "stdout",
     "output_type": "stream",
     "text": [
      "Reinitialized existing Git repository in /cd4ml/dvc-tutorial/.git/\n"
     ]
    }
   ],
   "source": [
    "! git init\n",
    "! git config user.name \"mlops-workshop\"\n",
    "! git config user.email \"mlops@workshop.com\""
   ]
  },
  {
   "cell_type": "markdown",
   "metadata": {},
   "source": [
    "# 2. Initialize DVC\n",
    "Once we are within a Git repository, we can initialize DVC by running `DVC init`. This creates a `.dvc` folder that DVC used for data versioning."
   ]
  },
  {
   "cell_type": "code",
   "execution_count": 26,
   "metadata": {},
   "outputs": [
    {
     "name": "stdout",
     "output_type": "stream",
     "text": [
      "Initialized DVC repository.\n",
      "\n",
      "You can now commit the changes to git.\n",
      "\n",
      "\u001b[31m+---------------------------------------------------------------------+\n",
      "\u001b[0m\u001b[31m|\u001b[0m                                                                     \u001b[31m|\u001b[0m\n",
      "\u001b[31m|\u001b[0m        DVC has enabled anonymous aggregate usage analytics.         \u001b[31m|\u001b[0m\n",
      "\u001b[31m|\u001b[0m     Read the analytics documentation (and how to opt-out) here:     \u001b[31m|\u001b[0m\n",
      "\u001b[31m|\u001b[0m             <\u001b[36mhttps://dvc.org/doc/user-guide/analytics\u001b[39m>              \u001b[31m|\u001b[0m\n",
      "\u001b[31m|\u001b[0m                                                                     \u001b[31m|\u001b[0m\n",
      "\u001b[31m+---------------------------------------------------------------------+\n",
      "\u001b[0m\n",
      "\u001b[33mWhat's next?\u001b[39m\n",
      "\u001b[33m------------\u001b[39m\n",
      "- Check out the documentation: <\u001b[36mhttps://dvc.org/doc\u001b[39m>\n",
      "- Get help and share ideas: <\u001b[36mhttps://dvc.org/chat\u001b[39m>\n",
      "- Star us on GitHub: <\u001b[36mhttps://github.com/iterative/dvc\u001b[39m>\n",
      "\u001b[0m.  ..  data  .dvc  .dvcignore  .git\n"
     ]
    }
   ],
   "source": [
    "! dvc init -f\n",
    "! ls -a"
   ]
  },
  {
   "cell_type": "markdown",
   "metadata": {},
   "source": [
    "### Exploring the contents of the `.dvc` folder"
   ]
  },
  {
   "cell_type": "code",
   "execution_count": 27,
   "metadata": {},
   "outputs": [
    {
     "name": "stdout",
     "output_type": "stream",
     "text": [
      "config\ttmp\n"
     ]
    }
   ],
   "source": [
    "! ls .dvc"
   ]
  },
  {
   "cell_type": "markdown",
   "metadata": {},
   "source": [
    "The `.dvc` directory contains a `config` file, a `tmp` folder which DVC uses as a cache and a `.gitignore`. The config file is empty for now, but it will store configuration information about the DVC setup when we are done defining everything."
   ]
  },
  {
   "cell_type": "code",
   "execution_count": 28,
   "metadata": {},
   "outputs": [],
   "source": [
    "! cat .dvc/config"
   ]
  },
  {
   "cell_type": "markdown",
   "metadata": {},
   "source": [
    "DVC adds its internal configuration files to the `.gitignore` to exclude it from Git tracking."
   ]
  },
  {
   "cell_type": "code",
   "execution_count": 29,
   "metadata": {},
   "outputs": [
    {
     "name": "stdout",
     "output_type": "stream",
     "text": [
      "/config.local\n",
      "/tmp\n",
      "/cache\n"
     ]
    }
   ],
   "source": [
    "! cat .dvc/.gitignore"
   ]
  },
  {
   "cell_type": "markdown",
   "metadata": {},
   "source": [
    "We are now ready to commit our DVC initialization to the Git repository."
   ]
  },
  {
   "cell_type": "code",
   "execution_count": 30,
   "metadata": {},
   "outputs": [
    {
     "name": "stdout",
     "output_type": "stream",
     "text": [
      "On branch master\n",
      "Changes to be committed:\n",
      "  (use \"git restore --staged <file>...\" to unstage)\n",
      "\t\u001b[32mmodified:   .dvc/config\u001b[m\n",
      "\n",
      "Untracked files:\n",
      "  (use \"git add <file>...\" to include in what will be committed)\n",
      "\t\u001b[31mdata/\u001b[m\n",
      "\n"
     ]
    }
   ],
   "source": [
    "! git status"
   ]
  },
  {
   "cell_type": "code",
   "execution_count": 31,
   "metadata": {},
   "outputs": [
    {
     "name": "stdout",
     "output_type": "stream",
     "text": [
      "[master 804b985] Initialize DVC repository\n",
      " 1 file changed, 4 deletions(-)\n"
     ]
    }
   ],
   "source": [
    "! git commit -m \"Initialize DVC repository\""
   ]
  },
  {
   "cell_type": "markdown",
   "metadata": {},
   "source": [
    "# 3. Set up remote data storage for DVC\n",
    "Next, we would like to define the remote data storage where the raw data is being stored. This can be a cloud storage (e.g. Amazon S3, Azure Blob Storage, Google Drive), or a local folder on your system."
   ]
  },
  {
   "cell_type": "code",
   "execution_count": 32,
   "metadata": {},
   "outputs": [
    {
     "name": "stdout",
     "output_type": "stream",
     "text": [
      "Setting 'remote_storage' as a default remote.\n",
      "\u001b[0m"
     ]
    }
   ],
   "source": [
    "! dvc remote add -d remote_storage ./dvc_remote"
   ]
  },
  {
   "cell_type": "markdown",
   "metadata": {},
   "source": [
    "The information about the remote storage is saved in DVC's `config` file."
   ]
  },
  {
   "cell_type": "code",
   "execution_count": 33,
   "metadata": {},
   "outputs": [
    {
     "name": "stdout",
     "output_type": "stream",
     "text": [
      "[core]\n",
      "    remote = remote_storage\n",
      "['remote \"remote_storage\"']\n",
      "    url = ../dvc_remote\n"
     ]
    }
   ],
   "source": [
    "! cat .dvc/config"
   ]
  },
  {
   "cell_type": "markdown",
   "metadata": {},
   "source": [
    "Let's commit this change to the Git repository."
   ]
  },
  {
   "cell_type": "code",
   "execution_count": 34,
   "metadata": {},
   "outputs": [
    {
     "name": "stdout",
     "output_type": "stream",
     "text": [
      "[master 7d56ba1] Configuring remote storage\n",
      " 1 file changed, 4 insertions(+)\n",
      "\u001b[33mcommit 7d56ba1d16b58b4a23f3530a2c61827e826b5b5b\u001b[m\u001b[33m (\u001b[m\u001b[1;36mHEAD -> \u001b[m\u001b[1;32mmaster\u001b[m\u001b[33m)\u001b[m\n",
      "Author: mlops-workshop <mlops@workshop.com>\n",
      "Date:   Wed May 15 08:49:37 2024 +0000\n",
      "\n",
      "    Configuring remote storage\n",
      "\n",
      "\u001b[33mcommit 804b985598505166801c5cd9d32bb361323f97a2\u001b[m\n",
      "Author: mlops-workshop <mlops@workshop.com>\n",
      "Date:   Wed May 15 08:49:25 2024 +0000\n",
      "\n",
      "    Initialize DVC repository\n"
     ]
    }
   ],
   "source": [
    "! git add .dvc/config\n",
    "! git commit -m \"Configuring remote storage\"\n",
    "! git log -n 2"
   ]
  },
  {
   "cell_type": "markdown",
   "metadata": {},
   "source": [
    "# 4. Tracking data\n",
    "With the DVC setup complete, we can start versioning the data. Let's use the ingestion script to make the data available."
   ]
  },
  {
   "cell_type": "code",
   "execution_count": 35,
   "metadata": {},
   "outputs": [],
   "source": [
    "#import os\n",
    "#sys.path.append('/plugins/')\n",
    "#from plugins.cd4ml.data_processing im#port ingest_data\n",
    "\n",
    "\n",
    "# paths and variables\n",
    "_raw_data_dir = '/data/batch1'\n",
    "    \n",
    "_data_dir = 'data'\n",
    "\n",
    "# ingest the data from blobstroage\n",
    "ingest_data(_raw_data_dir, data_files = {'raw_data_file': os.path.join(_data_dir, 'data.csv')})"
   ]
  },
  {
   "cell_type": "markdown",
   "metadata": {},
   "source": [
    "The folder `data` now contrains the dataset `data.csv` which we want to verison with DVC. It contains 52384 rows of data."
   ]
  },
  {
   "cell_type": "code",
   "execution_count": 36,
   "metadata": {},
   "outputs": [
    {
     "name": "stdout",
     "output_type": "stream",
     "text": [
      "52384 data/data.csv\n"
     ]
    }
   ],
   "source": [
    "! wc -l data/data.csv"
   ]
  },
  {
   "cell_type": "markdown",
   "metadata": {},
   "source": [
    "Adding tracking to this dataset can be achieved using `dvc add <filename>`."
   ]
  },
  {
   "cell_type": "code",
   "execution_count": 37,
   "metadata": {},
   "outputs": [
    {
     "name": "stdout",
     "output_type": "stream",
     "text": [
      "\u001b[?25l\u001b[32m⠋\u001b[0m Checking graph                                       core\u001b[39m>\n",
      "Adding...                                                                       \n",
      "!\u001b[A\n",
      "Collecting files and computing hashes in data/data.csv |0.00 [00:00,     ?file/s\u001b[A\n",
      "                                                                                \u001b[A\n",
      "!\u001b[A\n",
      "  0% Checking cache in '/cd4ml/dvc-tutorial/.dvc/cache/files/md5'| |0/? [00:00<?\u001b[A\n",
      "                                                                                \u001b[A\n",
      "!\u001b[A\n",
      "  0%|          |Adding data/data.csv to cache         0/1 [00:00<?,     ?file/s]\u001b[A\n",
      "                                                                                \u001b[A\n",
      "!\u001b[A\n",
      "  0%|          |Checking out /cd4ml/dvc-tutorial/data/0/1 [00:00<?,    ?files/s]\u001b[A\n",
      "100% Adding...|████████████████████████████████████████|1/1 [00:00,  8.22file/s]\u001b[A\n",
      "\n",
      "To track the changes with git, run:\n",
      "\n",
      "\tgit add data/.gitignore data/data.csv.dvc\n",
      "\n",
      "To enable auto staging, run:\n",
      "\n",
      "\tdvc config core.autostage true\n",
      "\u001b[0m"
     ]
    }
   ],
   "source": [
    "! dvc add data/data.csv"
   ]
  },
  {
   "cell_type": "markdown",
   "metadata": {},
   "source": [
    "Running `dvc add` created a `<filename>.dvc` file which we will track with Git and which DVC used to detected changes in the data. The `.gitignore` was also updated to ignore the data itself from Git tracking (Git tracks only the `<filename>.dvc` file). The `.dvc` file contains the file hash and some file metadata."
   ]
  },
  {
   "cell_type": "code",
   "execution_count": 38,
   "metadata": {},
   "outputs": [
    {
     "name": "stdout",
     "output_type": "stream",
     "text": [
      "outs:\n",
      "- md5: e7e332ee787f0207bdf0a76878a77829\n",
      "  size: 13769143\n",
      "  hash: md5\n",
      "  path: data.csv\n"
     ]
    }
   ],
   "source": [
    "! cat data/data.csv.dvc"
   ]
  },
  {
   "cell_type": "code",
   "execution_count": 39,
   "metadata": {},
   "outputs": [
    {
     "name": "stdout",
     "output_type": "stream",
     "text": [
      "/data.csv\n"
     ]
    }
   ],
   "source": [
    "! cat data/.gitignore"
   ]
  },
  {
   "cell_type": "markdown",
   "metadata": {},
   "source": [
    "Now, we can add the `data.csv.dvc` file and the modified `.gitignore` to a Git commit."
   ]
  },
  {
   "cell_type": "code",
   "execution_count": 40,
   "metadata": {},
   "outputs": [],
   "source": [
    "! git add data/data.csv.dvc data/.gitignore"
   ]
  },
  {
   "cell_type": "code",
   "execution_count": 41,
   "metadata": {},
   "outputs": [
    {
     "name": "stdout",
     "output_type": "stream",
     "text": [
      "[master c68a947] Dataset version 1\n",
      " 2 files changed, 6 insertions(+)\n",
      " create mode 100644 data/.gitignore\n",
      " create mode 100644 data/data.csv.dvc\n"
     ]
    }
   ],
   "source": [
    "! git commit -m \"Dataset version 1\"\n",
    "! git tag \"v1\""
   ]
  },
  {
   "cell_type": "code",
   "execution_count": 42,
   "metadata": {},
   "outputs": [
    {
     "name": "stdout",
     "output_type": "stream",
     "text": [
      "\u001b[33mcommit c68a9471aeb6bbb686909aa8671fb8783abecd36\u001b[m\u001b[33m (\u001b[m\u001b[1;36mHEAD -> \u001b[m\u001b[1;32mmaster\u001b[m\u001b[33m, \u001b[m\u001b[1;33mtag: v1\u001b[m\u001b[33m)\u001b[m\n",
      "Author: mlops-workshop <mlops@workshop.com>\n",
      "Date:   Wed May 15 08:53:33 2024 +0000\n",
      "\n",
      "    Dataset version 1\n",
      "\n",
      "\u001b[33mcommit 7d56ba1d16b58b4a23f3530a2c61827e826b5b5b\u001b[m\n",
      "Author: mlops-workshop <mlops@workshop.com>\n",
      "Date:   Wed May 15 08:49:37 2024 +0000\n",
      "\n",
      "    Configuring remote storage\n",
      "\n",
      "\u001b[33mcommit 804b985598505166801c5cd9d32bb361323f97a2\u001b[m\n",
      "Author: mlops-workshop <mlops@workshop.com>\n",
      "Date:   Wed May 15 08:49:25 2024 +0000\n",
      "\n",
      "    Initialize DVC repository\n"
     ]
    }
   ],
   "source": [
    "! git log -n 3"
   ]
  },
  {
   "cell_type": "markdown",
   "metadata": {},
   "source": [
    "Finally, we push the data to the remote storage location (in this example a local folder in our directory) using `dvc push`."
   ]
  },
  {
   "cell_type": "code",
   "execution_count": 43,
   "metadata": {},
   "outputs": [
    {
     "name": "stdout",
     "output_type": "stream",
     "text": [
      "Collecting                                            |1.00 [00:00, 49.7entry/s]\n",
      "Pushing\n",
      "!\u001b[A\n",
      "  0% Checking cache in '/cd4ml/dvc-tutorial/dvc_remote/files/md5'| |0/? [00:00<?\u001b[A\n",
      "                                                                                \u001b[A\n",
      "!\u001b[A\n",
      "  0% Checking cache in '/cd4ml/dvc-tutorial/.dvc/cache/files/md5'| |0/? [00:00<?\u001b[A\n",
      "                                                                                \u001b[A\n",
      "!\u001b[A\n",
      "  0%|          |Pushing to local                      0/1 [00:00<?,     ?file/s]\u001b[A\n",
      "Pushing                                                                         \u001b[A\n",
      "1 file pushed\n",
      "\u001b[0m"
     ]
    }
   ],
   "source": [
    "! dvc push"
   ]
  },
  {
   "cell_type": "markdown",
   "metadata": {},
   "source": [
    "That's it. We now have properly versioned our dataset."
   ]
  },
  {
   "cell_type": "markdown",
   "metadata": {},
   "source": [
    "# New data has arrived!\n",
    "You have been informed that new data has arrived. We want to track this new version of the dataset so that we can later easily switch between dataset versions."
   ]
  },
  {
   "cell_type": "markdown",
   "metadata": {},
   "source": [
    "First, we we run our ingestion script again to fetch the new \"day 2\" data."
   ]
  },
  {
   "cell_type": "code",
   "execution_count": 44,
   "metadata": {},
   "outputs": [],
   "source": [
    "# paths and variables\n",
    "_raw_data_dir = '/data/batch2'\n",
    "\n",
    "# ingest the data from blobstroage\n",
    "ingest_data(_raw_data_dir, data_files = {'raw_data_file': os.path.join(_data_dir, 'data.csv')})"
   ]
  },
  {
   "cell_type": "markdown",
   "metadata": {},
   "source": [
    "We can detect changes in the dataset by running `dvc status`."
   ]
  },
  {
   "cell_type": "code",
   "execution_count": 45,
   "metadata": {},
   "outputs": [
    {
     "name": "stdout",
     "output_type": "stream",
     "text": [
      "data/data.csv.dvc:                                                              \n",
      "\tchanged outs:\n",
      "\t\tmodified:           data/data.csv\n",
      "\u001b[0m"
     ]
    }
   ],
   "source": [
    "! dvc status"
   ]
  },
  {
   "cell_type": "markdown",
   "metadata": {},
   "source": [
    "Let us have a quick look at this modified dataset."
   ]
  },
  {
   "cell_type": "code",
   "execution_count": 46,
   "metadata": {},
   "outputs": [
    {
     "name": "stdout",
     "output_type": "stream",
     "text": [
      "104188 data/data.csv\n"
     ]
    }
   ],
   "source": [
    "! wc -l data/data.csv"
   ]
  },
  {
   "cell_type": "markdown",
   "metadata": {},
   "source": [
    "As you can see, our dataset has grown from 52384 to 104188 rows."
   ]
  },
  {
   "cell_type": "markdown",
   "metadata": {},
   "source": [
    "To track the changes of the dataset, we run `dvc add` again and commit the change to the Git repository."
   ]
  },
  {
   "cell_type": "code",
   "execution_count": 47,
   "metadata": {},
   "outputs": [
    {
     "name": "stdout",
     "output_type": "stream",
     "text": [
      "\u001b[?25l\u001b[32m⠋\u001b[0m Checking graph                                       core\u001b[39m>\n",
      "Adding...                                                                       \n",
      "!\u001b[A\n",
      "Collecting files and computing hashes in data/data.csv |0.00 [00:00,     ?file/s\u001b[A\n",
      "                                                                                \u001b[A\n",
      "!\u001b[A\n",
      "  0% Checking cache in '/cd4ml/dvc-tutorial/.dvc/cache/files/md5'| |0/? [00:00<?\u001b[A\n",
      "                                                                                \u001b[A\n",
      "!\u001b[A\n",
      "  0%|          |Adding data/data.csv to cache         0/1 [00:00<?,     ?file/s]\u001b[A\n",
      "                                                                                \u001b[A\n",
      "!\u001b[A\n",
      "  0%|          |Checking out /cd4ml/dvc-tutorial/data/0/1 [00:00<?,    ?files/s]\u001b[A\n",
      "100% Adding...|████████████████████████████████████████|1/1 [00:00, 10.20file/s]\u001b[A\n",
      "\n",
      "To track the changes with git, run:\n",
      "\n",
      "\tgit add data/data.csv.dvc\n",
      "\n",
      "To enable auto staging, run:\n",
      "\n",
      "\tdvc config core.autostage true\n",
      "\u001b[0m"
     ]
    }
   ],
   "source": [
    "! dvc add data/data.csv"
   ]
  },
  {
   "cell_type": "code",
   "execution_count": 48,
   "metadata": {},
   "outputs": [
    {
     "name": "stdout",
     "output_type": "stream",
     "text": [
      "[master 78f9164] Dataset version 2\n",
      " 1 file changed, 2 insertions(+), 2 deletions(-)\n"
     ]
    }
   ],
   "source": [
    "! git add data/data.csv.dvc\n",
    "! git commit -m \"Dataset version 2\"\n",
    "! git tag \"v2\""
   ]
  },
  {
   "cell_type": "markdown",
   "metadata": {},
   "source": [
    "Let's confirm that our changes have been committed."
   ]
  },
  {
   "cell_type": "code",
   "execution_count": 49,
   "metadata": {},
   "outputs": [
    {
     "name": "stdout",
     "output_type": "stream",
     "text": [
      "\u001b[33mcommit 78f916406090b79a53ffce35f1a70132abcb9e0e\u001b[m\u001b[33m (\u001b[m\u001b[1;36mHEAD -> \u001b[m\u001b[1;32mmaster\u001b[m\u001b[33m, \u001b[m\u001b[1;33mtag: v2\u001b[m\u001b[33m)\u001b[m\n",
      "Author: mlops-workshop <mlops@workshop.com>\n",
      "Date:   Wed May 15 08:54:57 2024 +0000\n",
      "\n",
      "    Dataset version 2\n",
      "\n",
      "\u001b[33mcommit c68a9471aeb6bbb686909aa8671fb8783abecd36\u001b[m\u001b[33m (\u001b[m\u001b[1;33mtag: v1\u001b[m\u001b[33m)\u001b[m\n",
      "Author: mlops-workshop <mlops@workshop.com>\n",
      "Date:   Wed May 15 08:53:33 2024 +0000\n",
      "\n",
      "    Dataset version 1\n",
      "\n",
      "\u001b[33mcommit 7d56ba1d16b58b4a23f3530a2c61827e826b5b5b\u001b[m\n",
      "Author: mlops-workshop <mlops@workshop.com>\n",
      "Date:   Wed May 15 08:49:37 2024 +0000\n",
      "\n",
      "    Configuring remote storage\n",
      "\n",
      "\u001b[33mcommit 804b985598505166801c5cd9d32bb361323f97a2\u001b[m\n",
      "Author: mlops-workshop <mlops@workshop.com>\n",
      "Date:   Wed May 15 08:49:25 2024 +0000\n",
      "\n",
      "    Initialize DVC repository\n"
     ]
    }
   ],
   "source": [
    "! git log -n 4"
   ]
  },
  {
   "cell_type": "markdown",
   "metadata": {},
   "source": [
    "Finally, we push our latest version of the dataset to our remote storage location."
   ]
  },
  {
   "cell_type": "code",
   "execution_count": 50,
   "metadata": {},
   "outputs": [
    {
     "name": "stdout",
     "output_type": "stream",
     "text": [
      "Collecting                                            |1.00 [00:00, 71.7entry/s]\n",
      "Pushing\n",
      "!\u001b[A\n",
      "  0% Checking cache in '/cd4ml/dvc-tutorial/dvc_remote/files/md5'| |0/? [00:00<?\u001b[A\n",
      "                                                                                \u001b[A\n",
      "!\u001b[A\n",
      "  0% Checking cache in '/cd4ml/dvc-tutorial/.dvc/cache/files/md5'| |0/? [00:00<?\u001b[A\n",
      "                                                                                \u001b[A\n",
      "!\u001b[A\n",
      "  0%|          |Pushing to local                      0/1 [00:00<?,     ?file/s]\u001b[A\n",
      "Pushing                                                                         \u001b[A\n",
      "1 file pushed\n",
      "\u001b[0m"
     ]
    }
   ],
   "source": [
    "! dvc push"
   ]
  },
  {
   "cell_type": "markdown",
   "metadata": {},
   "source": [
    "Inspecting the `dvc_remote` folder shows that there is one subfolder for each version of the dataset."
   ]
  },
  {
   "cell_type": "code",
   "execution_count": 51,
   "metadata": {},
   "outputs": [
    {
     "name": "stdout",
     "output_type": "stream",
     "text": [
      "files\n"
     ]
    }
   ],
   "source": [
    "! ls dvc_remote"
   ]
  },
  {
   "cell_type": "markdown",
   "metadata": {},
   "source": [
    "# Switching between dataset versions\n",
    "Switching between dataset versions involves a combination of `git checkout` and `dvc checkout` (or `dvc pull`). The correct version of the `<filename>.dvc` file is loaded into workspace via `git checkout` and running `dvc checkout` then pulls the associated data from our local cache (to pull the data from the remote, you would run `dvc pull`). "
   ]
  },
  {
   "cell_type": "markdown",
   "metadata": {},
   "source": [
    "Let's look again at the size of our current dataset (version 2)."
   ]
  },
  {
   "cell_type": "code",
   "execution_count": 52,
   "metadata": {},
   "outputs": [
    {
     "name": "stdout",
     "output_type": "stream",
     "text": [
      "104188 data/data.csv\n"
     ]
    }
   ],
   "source": [
    "! wc -l data/data.csv"
   ]
  },
  {
   "cell_type": "markdown",
   "metadata": {},
   "source": [
    "Now, we will check out version 1 of our dataset and look at the contents again."
   ]
  },
  {
   "cell_type": "code",
   "execution_count": 53,
   "metadata": {},
   "outputs": [
    {
     "name": "stdout",
     "output_type": "stream",
     "text": [
      "Note: switching to 'tags/v1'.\n",
      "\n",
      "You are in 'detached HEAD' state. You can look around, make experimental\n",
      "changes and commit them, and you can discard any commits you make in this\n",
      "state without impacting any branches by switching back to a branch.\n",
      "\n",
      "If you want to create a new branch to retain commits you create, you may\n",
      "do so (now or later) by using -c with the switch command. Example:\n",
      "\n",
      "  git switch -c <new-branch-name>\n",
      "\n",
      "Or undo this operation with:\n",
      "\n",
      "  git switch -\n",
      "\n",
      "Turn off this advice by setting config variable advice.detachedHead to false\n",
      "\n",
      "HEAD is now at c68a947 Dataset version 1\n",
      "Building workspace index                              |2.00 [00:00, 28.9entry/s]\n",
      "Comparing indexes                                    |3.00 [00:00, 1.35kentry/s]\n",
      "Applying changes                                      |1.00 [00:00,  27.6file/s]\n",
      "\u001b[33mM\u001b[0m       data/data.csv\n",
      "\u001b[0m"
     ]
    }
   ],
   "source": [
    "! git checkout tags/v1 \n",
    "! dvc checkout"
   ]
  },
  {
   "cell_type": "code",
   "execution_count": 54,
   "metadata": {},
   "outputs": [
    {
     "name": "stdout",
     "output_type": "stream",
     "text": [
      "52384 data/data.csv\n"
     ]
    }
   ],
   "source": [
    "! wc -l data/data.csv"
   ]
  },
  {
   "cell_type": "markdown",
   "metadata": {},
   "source": [
    "As you can see, we have indeed switched to the previous version of our dataset."
   ]
  },
  {
   "cell_type": "markdown",
   "metadata": {},
   "source": [
    "# Summary\n",
    "And there we have it! This is how you can use DVC to keep track of versions of data and switch between different versions. We started by initializing a Git repository, then we initialized DVC inside the Git repository. A combination of `dvc add` and `git commit` allowed us to add tracking to our dataset which we pushed to remote storage with `dvc push`. Accessing different dataset version was done with a combination of `git checkout` and `dvc checkout`. \n",
    "\n",
    "In the next part of this workshop, you will learn how to incorporate DVC into an end-to-end Machine Learning workflow using MLFlow and Apache Airflow."
   ]
  },
  {
   "cell_type": "code",
   "execution_count": 55,
   "metadata": {},
   "outputs": [],
   "source": [
    "# clean up\n",
    "os.chdir('..')\n",
    "shutil.rmtree('dvc-tutorial')"
   ]
  }
 ],
 "metadata": {
  "interpreter": {
   "hash": "31f2aee4e71d21fbe5cf8b01ff0e069b9275f58929596ceb00d14d90e3e16cd6"
  },
  "kernelspec": {
   "display_name": "Python 3 (ipykernel)",
   "language": "python",
   "name": "python3"
  },
  "language_info": {
   "codemirror_mode": {
    "name": "ipython",
    "version": 3
   },
   "file_extension": ".py",
   "mimetype": "text/x-python",
   "name": "python",
   "nbconvert_exporter": "python",
   "pygments_lexer": "ipython3",
   "version": "3.9.10"
  }
 },
 "nbformat": 4,
 "nbformat_minor": 4
}
